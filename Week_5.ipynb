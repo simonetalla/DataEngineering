{
 "cells": [
  {
   "cell_type": "code",
   "execution_count": 7,
   "metadata": {},
   "outputs": [],
   "source": [
    "import random\n",
    "import string\n",
    "import numpy as np\n",
    "import pandas\n",
    "import time\n",
    "\n",
    "\n",
    "# Create a list of 100000 name of 10 characters\n",
    "random.seed(2)\n",
    "names_unsrt = [''.join(random.choices(string.ascii_letters, k = 10)) for _ in range(100000)]"
   ]
  },
  {
   "cell_type": "code",
   "execution_count": 8,
   "metadata": {},
   "outputs": [
    {
     "data": {
      "text/plain": [
       "100000"
      ]
     },
     "execution_count": 8,
     "metadata": {},
     "output_type": "execute_result"
    }
   ],
   "source": [
    "len(names_unsrt)"
   ]
  },
  {
   "cell_type": "code",
   "execution_count": 9,
   "metadata": {},
   "outputs": [
    {
     "data": {
      "text/plain": [
       "['XXceRMIqFF', 'EiwuLZXCxn', 'bbyqtUBDmb', 'qhAZJjUPMV', 'NPsZYiNLxB']"
      ]
     },
     "execution_count": 9,
     "metadata": {},
     "output_type": "execute_result"
    }
   ],
   "source": [
    "names_unsrt[:5]"
   ]
  },
  {
   "cell_type": "code",
   "execution_count": 10,
   "metadata": {},
   "outputs": [
    {
     "data": {
      "text/plain": [
       "100000"
      ]
     },
     "execution_count": 10,
     "metadata": {},
     "output_type": "execute_result"
    }
   ],
   "source": [
    "# Convert the list to a set\n",
    "names_set = set(names_unsrt)\n",
    "len(names_set)"
   ]
  },
  {
   "cell_type": "code",
   "execution_count": 11,
   "metadata": {},
   "outputs": [
    {
     "data": {
      "text/plain": [
       "100000"
      ]
     },
     "execution_count": 11,
     "metadata": {},
     "output_type": "execute_result"
    }
   ],
   "source": [
    "\"\"\"For this part of the assignment, I'll go ahead and use the quick sort algorithm to sort this list of 100000 elements\n",
    "The reason why, is beause compare to all the algorithms we've been learning so far, the quicksort is by far the \n",
    "fastest algorithm with a time complexity of O(nlog(n))for the average case \"\"\"\n",
    "\n",
    "def quicksort(array):\n",
    "    if len(array) < 2:\n",
    "        return (array)\n",
    "    else:\n",
    "        # pivot == first element\n",
    "        pivot = array[0]\n",
    "        less = [i for i in array[1:] if i <= pivot]\n",
    "        greater = [i for i in array[1:] if i > pivot]\n",
    "        return (quicksort(less) + [pivot] + quicksort(greater))\n",
    "names_srt = quicksort(names_unsrt)\n",
    "len(names_srt)"
   ]
  },
  {
   "cell_type": "code",
   "execution_count": 12,
   "metadata": {},
   "outputs": [
    {
     "data": {
      "text/plain": [
       "['AABMAyWQDK', 'AACbyUDoyv', 'AACezyFOmJ', 'AAEzdIySoo', 'AAHZlIkays']"
      ]
     },
     "execution_count": 12,
     "metadata": {},
     "output_type": "execute_result"
    }
   ],
   "source": [
    "names_srt[:5]"
   ]
  },
  {
   "cell_type": "code",
   "execution_count": 13,
   "metadata": {},
   "outputs": [],
   "source": [
    "\"\"\"Pick the names from the unsorted array that are at 10,000th, 30,000th, 50,000th, 70,000th, 90,000th, \n",
    "and 100,000th positions, and store them in a temporary array somewhere for later use.\"\"\"\n",
    "# subtracting 1, because the index of a list starts at 0 not 1, so possition 10000 is actually at location array_unsrt[9999]\n",
    "array_val = []\n",
    "array_val.append(names_unsrt[10000-1])\n",
    "array_val.append(names_unsrt[30000-1])\n",
    "array_val.append(names_unsrt[50000-1])\n",
    "array_val.append(names_unsrt[70000-1])\n",
    "array_val.append(names_unsrt[90000-1])\n",
    "array_val.append(names_unsrt[100000-1])"
   ]
  },
  {
   "cell_type": "code",
   "execution_count": 14,
   "metadata": {},
   "outputs": [
    {
     "data": {
      "text/plain": [
       "['RsCMRuOxUR',\n",
       " 'piRvTqGJJf',\n",
       " 'HfnbdeOhxM',\n",
       " 'kjdFkEKvMY',\n",
       " 'drCbpQrvek',\n",
       " 'eyhJoTOUZh']"
      ]
     },
     "execution_count": 14,
     "metadata": {},
     "output_type": "execute_result"
    }
   ],
   "source": [
    "array_val"
   ]
  },
  {
   "cell_type": "code",
   "execution_count": 16,
   "metadata": {},
   "outputs": [
    {
     "name": "stdout",
     "output_type": "stream",
     "text": [
      "RsCMRuOxUR\n",
      "piRvTqGJJf\n",
      "HfnbdeOhxM\n",
      "kjdFkEKvMY\n",
      "drCbpQrvek\n",
      "eyhJoTOUZh\n"
     ]
    }
   ],
   "source": [
    "\"\"\"Now search for these six names in each of the collections.  Use linear search for the unsorted list, binary search for \n",
    "the sorted list, and use the set.remove() (or the in keyword) builtin for the set.  Capture the time it takes using all \n",
    "three algorithms\"\"\"\n",
    "\n",
    "# linear search on the unsorted array\n",
    "result_unsrt = []\n",
    "def linear_search(list, item):\n",
    "    start_time = time.clock()\n",
    "    i = 0\n",
    "    while i < len(list):\n",
    "        if list[i] == item:\n",
    "            # return if item is found\n",
    "            end_time = time.clock()\n",
    "            print(list[i])\n",
    "            return (end_time - start_time)*1000\n",
    "        else:\n",
    "            i = i + 1\n",
    "    end_time = time.clock()\n",
    "    return (end_time - start_time)*1000\n",
    "\n",
    "for f in array_val:\n",
    "    result_unsrt.append(linear_search(names_unsrt, f))\n"
   ]
  },
  {
   "cell_type": "code",
   "execution_count": 17,
   "metadata": {},
   "outputs": [
    {
     "data": {
      "text/plain": [
       "[4.461600000000001,\n",
       " 8.2478,\n",
       " 13.375000000000002,\n",
       " 23.3657,\n",
       " 29.421600000000005,\n",
       " 33.0747]"
      ]
     },
     "execution_count": 17,
     "metadata": {},
     "output_type": "execute_result"
    }
   ],
   "source": [
    "result_unsrt"
   ]
  },
  {
   "cell_type": "code",
   "execution_count": 18,
   "metadata": {},
   "outputs": [],
   "source": [
    "# Binary search for the sorted array\n",
    "result_srt = []\n",
    "def binary_search(list, item): \n",
    "    start_time = time.clock()\n",
    "    # low and high keep track of which part of the list you'll search in. \n",
    "    low = 0 \n",
    "    high = len(list) - 1\n",
    "    \n",
    "    # While you haven't narrowed it down to one element ... \n",
    "    while low <= high: \n",
    "        mid = (low + high) // 2 \n",
    "        guess = list[mid] \n",
    "        # Found the item. \n",
    "        if guess == item: \n",
    "            end_time = time.clock()\n",
    "            return (end_time - start_time)*1000\n",
    "        # The guess was too high. \n",
    "        if guess > item: \n",
    "            high = mid - 1 \n",
    "        else: \n",
    "            low = mid + 1 \n",
    "    # Item doesn't exist \n",
    "    end_time = time.clock()\n",
    "    return (end_time - start_time)*1000\n",
    "\n",
    "for f in array_val:\n",
    "    result_srt.append(binary_search(names_srt, f))"
   ]
  },
  {
   "cell_type": "code",
   "execution_count": 19,
   "metadata": {},
   "outputs": [
    {
     "data": {
      "text/plain": [
       "[0.025899999998912904,\n",
       " 0.017899999999571037,\n",
       " 0.017299999999664806,\n",
       " 0.0181000000001319,\n",
       " 0.014099999999572788,\n",
       " 0.030999999999892225]"
      ]
     },
     "execution_count": 19,
     "metadata": {},
     "output_type": "execute_result"
    }
   ],
   "source": [
    "result_srt"
   ]
  },
  {
   "cell_type": "code",
   "execution_count": 20,
   "metadata": {},
   "outputs": [],
   "source": [
    "# lookup for the same values in the set\n",
    "result_set = []\n",
    "for f in array_val:\n",
    "    start_time = time.clock()\n",
    "    if f in names_set:\n",
    "        end_time = time.clock()\n",
    "        result_set.append((end_time - start_time)*1000)"
   ]
  },
  {
   "cell_type": "code",
   "execution_count": 21,
   "metadata": {},
   "outputs": [
    {
     "data": {
      "text/plain": [
       "[0.0022999999984563146,\n",
       " 0.0014999999997655777,\n",
       " 0.0014000000021496817,\n",
       " 0.0008999999998593466,\n",
       " 0.0008999999998593466,\n",
       " 0.0007999999986907369]"
      ]
     },
     "execution_count": 21,
     "metadata": {},
     "output_type": "execute_result"
    }
   ],
   "source": [
    "result_set"
   ]
  },
  {
   "cell_type": "code",
   "execution_count": 22,
   "metadata": {},
   "outputs": [
    {
     "data": {
      "text/html": [
       "<div>\n",
       "<style scoped>\n",
       "    .dataframe tbody tr th:only-of-type {\n",
       "        vertical-align: middle;\n",
       "    }\n",
       "\n",
       "    .dataframe tbody tr th {\n",
       "        vertical-align: top;\n",
       "    }\n",
       "\n",
       "    .dataframe thead th {\n",
       "        text-align: right;\n",
       "    }\n",
       "</style>\n",
       "<table border=\"1\" class=\"dataframe\">\n",
       "  <thead>\n",
       "    <tr style=\"text-align: right;\">\n",
       "      <th></th>\n",
       "      <th>lookup_val</th>\n",
       "      <th>Linear_Search</th>\n",
       "      <th>Binary_Search</th>\n",
       "      <th>Set_lookup</th>\n",
       "    </tr>\n",
       "  </thead>\n",
       "  <tbody>\n",
       "    <tr>\n",
       "      <th>0</th>\n",
       "      <td>RsCMRuOxUR</td>\n",
       "      <td>4.4616</td>\n",
       "      <td>0.0259</td>\n",
       "      <td>0.0023</td>\n",
       "    </tr>\n",
       "    <tr>\n",
       "      <th>1</th>\n",
       "      <td>piRvTqGJJf</td>\n",
       "      <td>8.2478</td>\n",
       "      <td>0.0179</td>\n",
       "      <td>0.0015</td>\n",
       "    </tr>\n",
       "    <tr>\n",
       "      <th>2</th>\n",
       "      <td>HfnbdeOhxM</td>\n",
       "      <td>13.3750</td>\n",
       "      <td>0.0173</td>\n",
       "      <td>0.0014</td>\n",
       "    </tr>\n",
       "    <tr>\n",
       "      <th>3</th>\n",
       "      <td>kjdFkEKvMY</td>\n",
       "      <td>23.3657</td>\n",
       "      <td>0.0181</td>\n",
       "      <td>0.0009</td>\n",
       "    </tr>\n",
       "    <tr>\n",
       "      <th>4</th>\n",
       "      <td>drCbpQrvek</td>\n",
       "      <td>29.4216</td>\n",
       "      <td>0.0141</td>\n",
       "      <td>0.0009</td>\n",
       "    </tr>\n",
       "    <tr>\n",
       "      <th>5</th>\n",
       "      <td>eyhJoTOUZh</td>\n",
       "      <td>33.0747</td>\n",
       "      <td>0.0310</td>\n",
       "      <td>0.0008</td>\n",
       "    </tr>\n",
       "  </tbody>\n",
       "</table>\n",
       "</div>"
      ],
      "text/plain": [
       "   lookup_val  Linear_Search  Binary_Search  Set_lookup\n",
       "0  RsCMRuOxUR         4.4616         0.0259      0.0023\n",
       "1  piRvTqGJJf         8.2478         0.0179      0.0015\n",
       "2  HfnbdeOhxM        13.3750         0.0173      0.0014\n",
       "3  kjdFkEKvMY        23.3657         0.0181      0.0009\n",
       "4  drCbpQrvek        29.4216         0.0141      0.0009\n",
       "5  eyhJoTOUZh        33.0747         0.0310      0.0008"
      ]
     },
     "execution_count": 22,
     "metadata": {},
     "output_type": "execute_result"
    }
   ],
   "source": [
    "# Create a table and plot comparing times of linear search, binary search and set lookup for the six names\n",
    "result_table = pandas.DataFrame({\"lookup_val\":array_val})\n",
    "result_table[\"Linear_Search\"] = result_unsrt\n",
    "result_table[\"Binary_Search\"] = result_srt\n",
    "result_table[\"Set_lookup\"] = result_set\n",
    "result_table"
   ]
  },
  {
   "cell_type": "code",
   "execution_count": 24,
   "metadata": {},
   "outputs": [
    {
     "data": {
      "image/png": "[encoded data removed]",
      "text/plain": [
       "<Figure size 432x288 with 1 Axes>"
      ]
     },
     "metadata": {
      "needs_background": "light"
     },
     "output_type": "display_data"
    }
   ],
   "source": [
    "# Plot the results\n",
    "import matplotlib.pyplot as plt\n",
    "ax = plt.gca()\n",
    "result_table.plot(x='lookup_val', y='Linear_Search', ax=ax)\n",
    "result_table.plot(x='lookup_val', y='Binary_Search', color=\"red\", ax=ax)\n",
    "result_table.plot(x='lookup_val', y='Set_lookup', color=\"green\", ax=ax)\n",
    "\n",
    "plt.show()"
   ]
  },
  {
   "cell_type": "code",
   "execution_count": 25,
   "metadata": {},
   "outputs": [
    {
     "data": {
      "image/png": "[encoded data removed]",
      "text/plain": [
       "<Figure size 432x288 with 1 Axes>"
      ]
     },
     "metadata": {
      "needs_background": "light"
     },
     "output_type": "display_data"
    }
   ],
   "source": [
    "# Binary search vs set lookup\n",
    "ax = plt.gca()\n",
    "result_table.plot(x='lookup_val', y='Binary_Search', color=\"red\", ax=ax)\n",
    "result_table.plot(x='lookup_val', y='Set_lookup', color=\"green\", ax=ax)\n",
    "\n",
    "plt.show()"
   ]
  },
  {
   "cell_type": "code",
   "execution_count": 28,
   "metadata": {},
   "outputs": [
    {
     "data": {
      "text/plain": [
       "[99.41949076566898,\n",
       " 99.78297242901657,\n",
       " 99.87065420560998,\n",
       " 99.92253602502757,\n",
       " 99.95207602577844,\n",
       " 99.90627277042606]"
      ]
     },
     "execution_count": 28,
     "metadata": {},
     "output_type": "execute_result"
    }
   ],
   "source": [
    "# Find the percentage difference of the results for linear search vs binary search\n",
    "res_list = [result_unsrt[i] - result_srt[i] for i in range(len(result_unsrt))]\n",
    "final_list = [(res_list[i] / result_unsrt[i])*100 for i in range(len(res_list))]\n",
    "final_list"
   ]
  },
  {
   "cell_type": "code",
   "execution_count": 29,
   "metadata": {},
   "outputs": [
    {
     "data": {
      "text/plain": [
       "[99.94844898694512,\n",
       " 99.9818133320429,\n",
       " 99.9895327102643,\n",
       " 99.99614820014013,\n",
       " 99.99694102292241,\n",
       " 99.99758123278913]"
      ]
     },
     "execution_count": 29,
     "metadata": {},
     "output_type": "execute_result"
    }
   ],
   "source": [
    "# Find the per diff of results for linear search vs set lookup\n",
    "res_list = [result_unsrt[i] - result_set[i] for i in range(len(result_unsrt))]\n",
    "final_list = [(res_list[i] / result_unsrt[i])*100 for i in range(len(res_list))]\n",
    "final_list"
   ]
  },
  {
   "cell_type": "markdown",
   "metadata": {},
   "source": [
    "### Executive Summary\n",
    "We can clearly see the efficiency of Binary search and set lookup over linear search. With linear search, it doesn’t mater if the list is sorted or not, it will still take n time to find an element. Meaning, one needs to go through the list one by one until the lookup value is found. A closet examination of the result table prove this. The farthest the lookup value is in the list, the more time it will take to find it, hence O(n).\n",
    "    Binary search is an improvement from linear search with a runtime of O(log(n)). There has been a 99% improvement with binary search. But even so, it is not as fast as set lookup with a runtime of O(1). Compare to the other two algorithms, set lookup doesn’t have to loop through a list to find a value. With key value operation (hash table), it knows exactly where everything is located, hence whatever you’re looking for you will get a O(1) time complexity.  \n"
   ]
  },
  {
   "cell_type": "code",
   "execution_count": null,
   "metadata": {},
   "outputs": [],
   "source": []
  }
 ],
 "metadata": {
  "kernelspec": {
   "display_name": "Python 3",
   "language": "python",
   "name": "python3"
  },
  "language_info": {
   "codemirror_mode": {
    "name": "ipython",
    "version": 3
   },
   "file_extension": ".py",
   "mimetype": "text/x-python",
   "name": "python",
   "nbconvert_exporter": "python",
   "pygments_lexer": "ipython3",
   "version": "3.6.8"
  }
 },
 "nbformat": 4,
 "nbformat_minor": 2
}
