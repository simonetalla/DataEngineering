{
 "cells": [
  {
   "cell_type": "code",
   "execution_count": 15,
   "metadata": {},
   "outputs": [],
   "source": [
    "import random\n",
    "import string\n",
    "import numpy as np\n",
    "import pandas\n",
    "import time\n",
    "\n",
    "# store results\n",
    "results = []\n",
    "# create five list of random generated strings of length 50\n",
    "\n",
    "np.random.seed(1)\n",
    "array_1 = [''.join(random.choices(string.ascii_letters, k = 50)) for _ in range(200)]\n",
    "np.random.seed(1)\n",
    "array_2 = [''.join(random.choices(string.ascii_letters, k = 50)) for _ in range(400)]\n",
    "np.random.seed(1)\n",
    "array_3 = [''.join(random.choices(string.ascii_letters, k = 50)) for _ in range(600)]\n",
    "np.random.seed(1)\n",
    "array_4 = [''.join(random.choices(string.ascii_letters, k = 50)) for _ in range(800)]\n",
    "np.random.seed(1)\n",
    "array_5 = [''.join(random.choices(string.ascii_letters, k = 50)) for _ in range(1000)]\n",
    "rand_str = [array_1, array_2, array_3, array_4, array_5]\n",
    "list_cp = rand_str"
   ]
  },
  {
   "cell_type": "code",
   "execution_count": 16,
   "metadata": {},
   "outputs": [
    {
     "data": {
      "text/plain": [
       "['UetYJFrlNTznadxTFyuuyQjZSPrjdIxITUmcmLbmIjCMBmgHQt',\n",
       " 'RHDtlydwZpDcvilLqoqwAMkkWEySudAbFeRVYsEGnOCbBVmkdZ',\n",
       " 'yRHAUHLqXogMxSpwVQSNyqelJmTpTEPPQwlWnkNkTRQczojNSi',\n",
       " 'XdaksEnyhjCKaSvppgInDOLMpjafvrSsIrAkNGoijbhlEKJZKw',\n",
       " 'TAuKleDaEtQfqjRWfAOBhjMuQzAzdkdYsAzADvgQvwycAYwvRD']"
      ]
     },
     "execution_count": 16,
     "metadata": {},
     "output_type": "execute_result"
    }
   ],
   "source": [
    "rand_str[0][:5]"
   ]
  },
  {
   "cell_type": "markdown",
   "metadata": {},
   "source": [
    "### Quick Sort\n",
    "Divide and conquer is the base concept behind this algorithm. It's supposed to be a very efficient algorithm with a time complexity that depends on the picked pivot with a best case scenario of O(nlog(n)) and a worst case of O(n^2). The idea behind this algorithm, is that  you pick an element called the pivot and divide/organize element around it. The implementation below uses the first element as the pivot."
   ]
  },
  {
   "cell_type": "code",
   "execution_count": 17,
   "metadata": {},
   "outputs": [
    {
     "data": {
      "text/plain": [
       "[0.9779999995771504,\n",
       " 2.183800000238989,\n",
       " 2.7406999997765524,\n",
       " 2.9147999998713203,\n",
       " 3.449799999998504]"
      ]
     },
     "execution_count": 17,
     "metadata": {},
     "output_type": "execute_result"
    }
   ],
   "source": [
    "time_q = []\n",
    "def quicksort(array):\n",
    "    if len(array) < 2:\n",
    "        return (array)\n",
    "    else:\n",
    "        # pivot == first element\n",
    "        pivot = array[0]\n",
    "        less = [i for i in array[1:] if i <= pivot]\n",
    "        greater = [i for i in array[1:] if i > pivot]\n",
    "        return (quicksort(less) + [pivot] + quicksort(greater))\n",
    "\n",
    "for i in rand_str:\n",
    "    loop_start = time.clock()\n",
    "    quicksort(i)\n",
    "    loop_end = time.clock()\n",
    "    time_q.append((loop_end -  loop_start)*1000) \n",
    "\n",
    "time_q"
   ]
  },
  {
   "cell_type": "code",
   "execution_count": 18,
   "metadata": {},
   "outputs": [
    {
     "data": {
      "text/plain": [
       "['UetYJFrlNTznadxTFyuuyQjZSPrjdIxITUmcmLbmIjCMBmgHQt',\n",
       " 'RHDtlydwZpDcvilLqoqwAMkkWEySudAbFeRVYsEGnOCbBVmkdZ',\n",
       " 'yRHAUHLqXogMxSpwVQSNyqelJmTpTEPPQwlWnkNkTRQczojNSi',\n",
       " 'XdaksEnyhjCKaSvppgInDOLMpjafvrSsIrAkNGoijbhlEKJZKw',\n",
       " 'TAuKleDaEtQfqjRWfAOBhjMuQzAzdkdYsAzADvgQvwycAYwvRD']"
      ]
     },
     "execution_count": 18,
     "metadata": {},
     "output_type": "execute_result"
    }
   ],
   "source": [
    "rand_str[0][:5]"
   ]
  },
  {
   "cell_type": "markdown",
   "metadata": {},
   "source": [
    "### Selection Sort\n",
    "This algorithm sort a list or an array by repeatedly finding the smallest element from the non sorted list, and put it at the beginning of the list. Selection sort has a time complexity of O(n^2)"
   ]
  },
  {
   "cell_type": "code",
   "execution_count": 19,
   "metadata": {},
   "outputs": [
    {
     "data": {
      "text/plain": [
       "[37.151300000004994,\n",
       " 151.64869999989605,\n",
       " 347.65580000021146,\n",
       " 618.0211999999301,\n",
       " 915.8747000001313]"
      ]
     },
     "execution_count": 19,
     "metadata": {},
     "output_type": "execute_result"
    }
   ],
   "source": [
    "# Selection sort\n",
    "def findSmallest(arr):\n",
    "    # Find the smallest value in an array\n",
    "    smallest = arr[0]\n",
    "    smallest_index = 0\n",
    "    for i in range(1, len(arr)):\n",
    "        if arr[i] < smallest:\n",
    "            smallest = arr[i]\n",
    "            smallest_index = i\n",
    "        \n",
    "    return [smallest, smallest_index]\n",
    "\n",
    "def selectionSort(arr):\n",
    "    newArr = []\n",
    "    for i in range(len(arr)):\n",
    "        smallest = findSmallest(arr)[0]\n",
    "        # Get the smallest value\n",
    "        smallest_index = findSmallest(arr)[1]\n",
    "        # Delete that value from the original array\n",
    "        arr = np.delete(arr, smallest_index, axis=0)\n",
    "        newArr.append(smallest)\n",
    "    return newArr\n",
    "time_b = []\n",
    "for i in rand_str:\n",
    "    loop_start = time.clock()\n",
    "    selectionSort(i)\n",
    "    loop_end = time.clock()\n",
    "    time_b.append((loop_end -  loop_start)*1000) \n",
    "\n",
    "time_b"
   ]
  },
  {
   "cell_type": "code",
   "execution_count": 20,
   "metadata": {},
   "outputs": [
    {
     "data": {
      "text/plain": [
       "['UetYJFrlNTznadxTFyuuyQjZSPrjdIxITUmcmLbmIjCMBmgHQt',\n",
       " 'RHDtlydwZpDcvilLqoqwAMkkWEySudAbFeRVYsEGnOCbBVmkdZ',\n",
       " 'yRHAUHLqXogMxSpwVQSNyqelJmTpTEPPQwlWnkNkTRQczojNSi',\n",
       " 'XdaksEnyhjCKaSvppgInDOLMpjafvrSsIrAkNGoijbhlEKJZKw',\n",
       " 'TAuKleDaEtQfqjRWfAOBhjMuQzAzdkdYsAzADvgQvwycAYwvRD']"
      ]
     },
     "execution_count": 20,
     "metadata": {},
     "output_type": "execute_result"
    }
   ],
   "source": [
    "rand_str[0][:5]"
   ]
  },
  {
   "cell_type": "markdown",
   "metadata": {},
   "source": [
    "### Bubble Sort\n",
    "Bubble sort repeatedly swap the adjacent elements if they are in the wrong order.This algorithm has a time complexity of O(n^2) but the best case scenerio could have time complexity of O(n)."
   ]
  },
  {
   "cell_type": "code",
   "execution_count": 21,
   "metadata": {},
   "outputs": [
    {
     "data": {
      "text/plain": [
       "[2.3950999998305633,\n",
       " 8.94830000015645,\n",
       " 21.120200000041223,\n",
       " 49.648700000034296,\n",
       " 88.07370000022274]"
      ]
     },
     "execution_count": 21,
     "metadata": {},
     "output_type": "execute_result"
    }
   ],
   "source": [
    "# Bubble sort \n",
    "# works by repeatedly swapping the adjacent elements if they are in the wrong order\n",
    "time_c = []\n",
    " \n",
    "def bubbleSort(array):\n",
    "    n = len(array)\n",
    "    for i in range(n):\n",
    "        for j in range(0, n-i-1):\n",
    "            # swapping data\n",
    "            if array[j] > array[j+1]:\n",
    "                array[j] = array[j+1]\n",
    "                array[j+1] = array[j]\n",
    " \n",
    " \n",
    "for i in rand_str:\n",
    "    loop_start = time.clock()\n",
    "    bubbleSort(i)\n",
    "    loop_end = time.clock()\n",
    "    time_c.append((loop_end -  loop_start)*1000)  \n",
    "\n",
    "time_c"
   ]
  },
  {
   "cell_type": "code",
   "execution_count": 22,
   "metadata": {},
   "outputs": [],
   "source": [
    "result_table = pandas.DataFrame({\"size\":['200', '400', '600', '800', '1000']})"
   ]
  },
  {
   "cell_type": "code",
   "execution_count": 23,
   "metadata": {
    "scrolled": true
   },
   "outputs": [
    {
     "data": {
      "text/html": [
       "<div>\n",
       "<style scoped>\n",
       "    .dataframe tbody tr th:only-of-type {\n",
       "        vertical-align: middle;\n",
       "    }\n",
       "\n",
       "    .dataframe tbody tr th {\n",
       "        vertical-align: top;\n",
       "    }\n",
       "\n",
       "    .dataframe thead th {\n",
       "        text-align: right;\n",
       "    }\n",
       "</style>\n",
       "<table border=\"1\" class=\"dataframe\">\n",
       "  <thead>\n",
       "    <tr style=\"text-align: right;\">\n",
       "      <th></th>\n",
       "      <th>size</th>\n",
       "      <th>quickSort</th>\n",
       "      <th>selectionSort</th>\n",
       "      <th>BubbleSort</th>\n",
       "    </tr>\n",
       "  </thead>\n",
       "  <tbody>\n",
       "    <tr>\n",
       "      <th>0</th>\n",
       "      <td>200</td>\n",
       "      <td>0.9780</td>\n",
       "      <td>37.1513</td>\n",
       "      <td>2.3951</td>\n",
       "    </tr>\n",
       "    <tr>\n",
       "      <th>1</th>\n",
       "      <td>400</td>\n",
       "      <td>2.1838</td>\n",
       "      <td>151.6487</td>\n",
       "      <td>8.9483</td>\n",
       "    </tr>\n",
       "    <tr>\n",
       "      <th>2</th>\n",
       "      <td>600</td>\n",
       "      <td>2.7407</td>\n",
       "      <td>347.6558</td>\n",
       "      <td>21.1202</td>\n",
       "    </tr>\n",
       "    <tr>\n",
       "      <th>3</th>\n",
       "      <td>800</td>\n",
       "      <td>2.9148</td>\n",
       "      <td>618.0212</td>\n",
       "      <td>49.6487</td>\n",
       "    </tr>\n",
       "    <tr>\n",
       "      <th>4</th>\n",
       "      <td>1000</td>\n",
       "      <td>3.4498</td>\n",
       "      <td>915.8747</td>\n",
       "      <td>88.0737</td>\n",
       "    </tr>\n",
       "  </tbody>\n",
       "</table>\n",
       "</div>"
      ],
      "text/plain": [
       "   size  quickSort  selectionSort  BubbleSort\n",
       "0   200     0.9780        37.1513      2.3951\n",
       "1   400     2.1838       151.6487      8.9483\n",
       "2   600     2.7407       347.6558     21.1202\n",
       "3   800     2.9148       618.0212     49.6487\n",
       "4  1000     3.4498       915.8747     88.0737"
      ]
     },
     "execution_count": 23,
     "metadata": {},
     "output_type": "execute_result"
    }
   ],
   "source": [
    "result_table[\"quickSort\"] = time_q\n",
    "result_table[\"selectionSort\"] = time_b\n",
    "result_table[\"BubbleSort\"] = time_c\n",
    "result_table"
   ]
  },
  {
   "cell_type": "markdown",
   "metadata": {},
   "source": [
    "### Results\n",
    "It's evident that QuickSort is the fastest algorithm here, with a time complexity of O(nlog(n)) on average cases. I was trying to find what make buddle sort and selection sort runtime so different even with the same time complexity. It seems like the time complexity for best case scenerio for bubble sort is O(n) and one noticeable difference between the two is that Bubble sort is a stable algorithm while selection sort isn't."
   ]
  },
  {
   "cell_type": "code",
   "execution_count": 25,
   "metadata": {},
   "outputs": [
    {
     "data": {
      "image/png": "[encoded data removed]",
      "text/plain": [
       "<Figure size 432x288 with 1 Axes>"
      ]
     },
     "metadata": {
      "needs_background": "light"
     },
     "output_type": "display_data"
    }
   ],
   "source": [
    "# Plot the results\n",
    "import matplotlib.pyplot as plt\n",
    "ax = plt.gca()\n",
    "result_table.plot(x='size', y='quickSort', ax=ax)\n",
    "result_table.plot(x='size', y='selectionSort', color=\"red\", ax=ax)\n",
    "result_table.plot(x='size', y='BubbleSort', color=\"green\", ax=ax)\n",
    "\n",
    "plt.show()"
   ]
  },
  {
   "cell_type": "code",
   "execution_count": null,
   "metadata": {},
   "outputs": [],
   "source": []
  }
 ],
 "metadata": {
  "kernelspec": {
   "display_name": "Python 3",
   "language": "python",
   "name": "python3"
  },
  "language_info": {
   "codemirror_mode": {
    "name": "ipython",
    "version": 3
   },
   "file_extension": ".py",
   "mimetype": "text/x-python",
   "name": "python",
   "nbconvert_exporter": "python",
   "pygments_lexer": "ipython3",
   "version": "3.6.8"
  }
 },
 "nbformat": 4,
 "nbformat_minor": 2
}
