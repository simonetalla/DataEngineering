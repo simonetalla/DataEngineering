{
 "cells": [
  {
   "cell_type": "code",
   "execution_count": 1,
   "metadata": {},
   "outputs": [],
   "source": [
    "'''To begin, let's generate some random data to work with. Ensure that a common random number seed is used to \n",
    "    generate each of the arrays. We will make five arrays, each of length 512, 1024, 2048, 4096, and 8192 containing \n",
    "    randomly generated uniformly distributed integers from 1 to 10000.  You may use the numpy package for this.  '''\n",
    "\n",
    "import numpy as np\n",
    "import pandas as pd\n",
    "import time\n",
    "\n",
    "np.random.seed(1)\n",
    "array_1 = np.random.randint(1, 10000, 512)\n",
    "np.random.seed(1)\n",
    "array_2 = np.random.randint(1, 10000, 1024)\n",
    "np.random.seed(1)\n",
    "array_3 = np.random.randint(1, 10000, 2048)\n",
    "np.random.seed(1)\n",
    "array_4 = np.random.randint(1, 10000, 4096)\n",
    "np.random.seed(1)\n",
    "array_5 = np.random.randint(1, 10000, 8192)\n"
   ]
  },
  {
   "cell_type": "code",
   "execution_count": 2,
   "metadata": {},
   "outputs": [],
   "source": [
    "\"\"\"Sort each of the random number arrays from smallest to largest.  You may use any algorithm to sort the data.\"\"\"\n",
    "# using the textbook codes\n",
    "def findSmallest(arr):\n",
    "    smallest = arr[0]\n",
    "    smallest_index = 0\n",
    "    for i in range(1, len(arr)):\n",
    "        if arr[i] < smallest:\n",
    "            smallest = arr[i]\n",
    "            smallest_index = i\n",
    "        \n",
    "    return [smallest, smallest_index]\n",
    "\n",
    "def selectionSort(arr):\n",
    "    newArr = []\n",
    "    for i in range(len(arr)):\n",
    "        smallest = findSmallest(arr)[0]\n",
    "        smallest_index = findSmallest(arr)[1]\n",
    "        arr = np.delete(arr, smallest_index, axis=0)\n",
    "        newArr.append(smallest)\n",
    "    return newArr\n",
    "\n",
    "# Get the execution time\n",
    "def sort_time(ls):\n",
    "    start_time = time.time()\n",
    "    value = selectionSort(ls)\n",
    "    end_time = time.time()\n",
    "    return value, end_time - start_time"
   ]
  },
  {
   "cell_type": "code",
   "execution_count": 3,
   "metadata": {},
   "outputs": [],
   "source": [
    "arr_1, sort_1 = sort_time(array_1)\n",
    "arr_2, sort_2 = sort_time(array_2)\n",
    "arr_3, sort_3 = sort_time(array_3)\n",
    "arr_4, sort_4 = sort_time(array_4)\n",
    "arr_5, sort_5 = sort_time(array_5)"
   ]
  },
  {
   "cell_type": "code",
   "execution_count": 4,
   "metadata": {},
   "outputs": [],
   "source": [
    "# Simple search / linear search\n",
    "def linear_search(list, item):\n",
    "    start_time = time.time()\n",
    "    i = 0\n",
    "    while i < len(list):\n",
    "        if list[i] == item:\n",
    "            # return if item is found\n",
    "            end_time = time.time()\n",
    "            return i, end_time - start_time\n",
    "        else:\n",
    "            i = i + 1\n",
    "    end_time = time.time()\n",
    "    return None, end_time - start_time\n",
    "        "
   ]
  },
  {
   "cell_type": "code",
   "execution_count": 5,
   "metadata": {},
   "outputs": [],
   "source": [
    "lin_1, lin_time1 = linear_search(arr_1, arr_1[len(arr_1)-1])\n",
    "lin_2, lin_time2 = linear_search(arr_2, arr_2[len(arr_2)-1])\n",
    "lin_3, lin_time3 = linear_search(arr_3, arr_3[len(arr_3)-1])\n",
    "lin_4, lin_time4 = linear_search(arr_4, arr_4[len(arr_4)-1])\n",
    "lin_5, lin_time5 = linear_search(arr_5, arr_5[len(arr_5)-1])"
   ]
  },
  {
   "cell_type": "code",
   "execution_count": 6,
   "metadata": {},
   "outputs": [
    {
     "name": "stdout",
     "output_type": "stream",
     "text": [
      "8191 0.002249479293823242\n"
     ]
    }
   ],
   "source": [
    "print(lin_5, lin_time5)"
   ]
  },
  {
   "cell_type": "code",
   "execution_count": 7,
   "metadata": {},
   "outputs": [],
   "source": [
    "\"\"\"Execute the base search algorithm (binary search) (from the text and github code) for each of array, \n",
    "noting the execution time for each array.  With each execution use the maximum value of the random number \n",
    "array as the number for which you are searching.\"\"\"\n",
    "# using the book codes\n",
    "def binary_search(list, item): \n",
    "    # low and high keep track of which part of the list you'll search in. \n",
    "    low = 0 \n",
    "    high = len(list) - 1 \n",
    "\n",
    "\n",
    "    # While you haven't narrowed it down to one element ... \n",
    "    while low <= high: \n",
    "        \n",
    "        # ... check the middle element \n",
    "        mid = (low + high) // 2 \n",
    "        guess = list[mid] \n",
    "        # Found the item. \n",
    "        if guess == item: \n",
    "            return mid \n",
    "        # The guess was too high. \n",
    "        if guess > item: \n",
    "            high = mid - 1 \n",
    "        # The guess was too low. \n",
    "        else: \n",
    "            low = mid + 1 \n",
    "\n",
    "    # Item doesn't exist \n",
    "    return None \n",
    " \n",
    "# Get the execution time\n",
    "def exc_time(ls, item):\n",
    "    start_time = time.time()\n",
    "    value = binary_search(ls, item)\n",
    "    end_time = time.time()\n",
    "    return value, end_time - start_time"
   ]
  },
  {
   "cell_type": "code",
   "execution_count": 8,
   "metadata": {},
   "outputs": [],
   "source": [
    "res_1, bin_1 = exc_time(arr_1, arr_1[len(arr_1)-1])\n",
    "res_2, bin_2 = exc_time(arr_2, arr_2[len(arr_2)-1])\n",
    "res_3, bin_3 = exc_time(arr_3, arr_3[len(arr_3)-1])\n",
    "res_4, bin_4 = exc_time(arr_4, arr_4[len(arr_4)-1])\n",
    "res_5, bin_5 = exc_time(arr_5, arr_5[len(arr_5)-1])"
   ]
  },
  {
   "cell_type": "code",
   "execution_count": 9,
   "metadata": {},
   "outputs": [],
   "source": [
    "final_data = [[1, str(len(array_1)), sort_1, lin_time1, bin_1, sort_1+bin_1], [2, str(len(array_2)), sort_2, lin_time2, bin_2, sort_2+bin_2],\n",
    "                  [3, str(len(array_3)), sort_3, lin_time3, bin_3, sort_3+bin_3], [4, str(len(array_4)), sort_4, lin_time4, bin_4, sort_4+bin_4],\n",
    "                  [5, str(len(array_5)), sort_5, lin_time5, bin_5, sort_5+bin_5]]\n",
    "\n",
    "# Create a dataframe to store the above data\n",
    "final_data = pd.DataFrame(final_data, columns=[\"array_id\", \"size\", \"Sort_Time\", \"linear_search_Time\", \"Binary_Search_Time\", \"bi_sort_time\"])"
   ]
  },
  {
   "cell_type": "code",
   "execution_count": 10,
   "metadata": {
    "scrolled": true
   },
   "outputs": [
    {
     "data": {
      "text/html": [
       "<div>\n",
       "<style scoped>\n",
       "    .dataframe tbody tr th:only-of-type {\n",
       "        vertical-align: middle;\n",
       "    }\n",
       "\n",
       "    .dataframe tbody tr th {\n",
       "        vertical-align: top;\n",
       "    }\n",
       "\n",
       "    .dataframe thead th {\n",
       "        text-align: right;\n",
       "    }\n",
       "</style>\n",
       "<table border=\"1\" class=\"dataframe\">\n",
       "  <thead>\n",
       "    <tr style=\"text-align: right;\">\n",
       "      <th></th>\n",
       "      <th>array_id</th>\n",
       "      <th>size</th>\n",
       "      <th>Sort_Time</th>\n",
       "      <th>linear_search_Time</th>\n",
       "      <th>Binary_Search_Time</th>\n",
       "      <th>bi_sort_time</th>\n",
       "    </tr>\n",
       "  </thead>\n",
       "  <tbody>\n",
       "    <tr>\n",
       "      <th>0</th>\n",
       "      <td>1</td>\n",
       "      <td>512</td>\n",
       "      <td>0.065742</td>\n",
       "      <td>0.000000</td>\n",
       "      <td>0.0</td>\n",
       "      <td>0.065742</td>\n",
       "    </tr>\n",
       "    <tr>\n",
       "      <th>1</th>\n",
       "      <td>2</td>\n",
       "      <td>1024</td>\n",
       "      <td>0.321465</td>\n",
       "      <td>0.000000</td>\n",
       "      <td>0.0</td>\n",
       "      <td>0.321465</td>\n",
       "    </tr>\n",
       "    <tr>\n",
       "      <th>2</th>\n",
       "      <td>3</td>\n",
       "      <td>2048</td>\n",
       "      <td>1.149085</td>\n",
       "      <td>0.004000</td>\n",
       "      <td>0.0</td>\n",
       "      <td>1.149085</td>\n",
       "    </tr>\n",
       "    <tr>\n",
       "      <th>3</th>\n",
       "      <td>4</td>\n",
       "      <td>4096</td>\n",
       "      <td>4.872174</td>\n",
       "      <td>0.001514</td>\n",
       "      <td>0.0</td>\n",
       "      <td>4.872174</td>\n",
       "    </tr>\n",
       "    <tr>\n",
       "      <th>4</th>\n",
       "      <td>5</td>\n",
       "      <td>8192</td>\n",
       "      <td>18.739835</td>\n",
       "      <td>0.002249</td>\n",
       "      <td>0.0</td>\n",
       "      <td>18.739835</td>\n",
       "    </tr>\n",
       "  </tbody>\n",
       "</table>\n",
       "</div>"
      ],
      "text/plain": [
       "   array_id  size  Sort_Time  linear_search_Time  Binary_Search_Time  \\\n",
       "0         1   512   0.065742            0.000000                 0.0   \n",
       "1         2  1024   0.321465            0.000000                 0.0   \n",
       "2         3  2048   1.149085            0.004000                 0.0   \n",
       "3         4  4096   4.872174            0.001514                 0.0   \n",
       "4         5  8192  18.739835            0.002249                 0.0   \n",
       "\n",
       "   bi_sort_time  \n",
       "0      0.065742  \n",
       "1      0.321465  \n",
       "2      1.149085  \n",
       "3      4.872174  \n",
       "4     18.739835  "
      ]
     },
     "execution_count": 10,
     "metadata": {},
     "output_type": "execute_result"
    }
   ],
   "source": [
    "final_data"
   ]
  },
  {
   "cell_type": "markdown",
   "metadata": {},
   "source": [
    "#### Discuss Results #1\n",
    "The above table and the plot below show that both algorithms (linear search and binary search) are pretty fast when the \n",
    "size of the data is less than 1024. Nevertheless, after that threshold, linear search start showing some slowness when\n",
    "binary search stays constant at 0.0 millisecond."
   ]
  },
  {
   "cell_type": "code",
   "execution_count": 12,
   "metadata": {},
   "outputs": [
    {
     "data": {
      "image/png": "[encoded data removed]",
      "text/plain": [
       "<Figure size 432x288 with 1 Axes>"
      ]
     },
     "metadata": {
      "needs_background": "light"
     },
     "output_type": "display_data"
    }
   ],
   "source": [
    "# Plot the data\n",
    "# execution time against array size for linear and binary search algorithms\n",
    "import matplotlib.pyplot as plt\n",
    "ax = plt.gca()\n",
    "final_data.plot(x='size', y='linear_search_Time', ax=ax)\n",
    "final_data.plot(x='size', y='Binary_Search_Time', color=\"red\", ax=ax)\n",
    "plt.show()"
   ]
  },
  {
   "cell_type": "markdown",
   "metadata": {},
   "source": [
    "#### Discuss Results #2\n",
    "Since, bi_sort_time is the addition of binary search and sort_time, and the processing time for binary search stayed constant at zero millisecond throughout the five different sizes, the plot below shows that running binary search on any of those set of numbers from sorting to the worst case scenario, will only take the sorting processing time. \n",
    "Eventhough, the above plot shows that binary search is faster than linear search, the one below tells us that with the different sizes we were given to work with, linear search is still pretty fast."
   ]
  },
  {
   "cell_type": "code",
   "execution_count": 13,
   "metadata": {},
   "outputs": [
    {
     "data": {
      "image/png": "[encoded data removed]",
      "text/plain": [
       "<Figure size 432x288 with 1 Axes>"
      ]
     },
     "metadata": {
      "needs_background": "light"
     },
     "output_type": "display_data"
    }
   ],
   "source": [
    "# execution time against array size for each form of the algorithm being tested\n",
    "ax = plt.gca()\n",
    "final_data.plot(x='size', y='Sort_Time', ax=ax)\n",
    "final_data.plot(x='size', y='linear_search_Time', color=\"pink\", ax=ax)\n",
    "final_data.plot(x='size', y='Binary_Search_Time', color=\"purple\", ax=ax)\n",
    "final_data.plot(x='size', y='bi_sort_time', color=\"red\", ax=ax)\n",
    "plt.show()"
   ]
  },
  {
   "cell_type": "markdown",
   "metadata": {},
   "source": [
    "### Executive Summary\n",
    "Both binary and linear searches aim to find an item in a sorted list or sorted set of items. The differences between them are that linear search is a basic/simple search, meaning it will go through item one by one doing a comparison each time. For instance (taking from the book), \"You have a phone number, and you want to find the person’s name in the phone book\". This will make you go through the phone book page by page and name by name. This is simple search. In comparison, binary search works by dividing the proportion of the list that might contain the searched item in half. it does it repeatedly until it finds it. \n",
    "With those definitions in mind, our study above shows that processing time for both algorithms are not too different if the size of the data is relatively small. But as soon as it starts to increase in size, applying linear search will take more time compare to binary search. When apply linear search, the bigger the size the more time it will take to process hence O(n). with binary search, he running time is O(log(n)). That just means that the increase of size of items will also affect the run time for binary search but not as fast as it will affect linear search’s run time. \n"
   ]
  },
  {
   "cell_type": "code",
   "execution_count": null,
   "metadata": {},
   "outputs": [],
   "source": []
  }
 ],
 "metadata": {
  "kernelspec": {
   "display_name": "Python 3",
   "language": "python",
   "name": "python3"
  },
  "language_info": {
   "codemirror_mode": {
    "name": "ipython",
    "version": 3
   },
   "file_extension": ".py",
   "mimetype": "text/x-python",
   "name": "python",
   "nbconvert_exporter": "python",
   "pygments_lexer": "ipython3",
   "version": "3.6.8"
  }
 },
 "nbformat": 4,
 "nbformat_minor": 2
}
